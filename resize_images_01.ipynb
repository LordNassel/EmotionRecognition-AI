{
 "cells": [
  {
   "cell_type": "code",
   "execution_count": null,
   "metadata": {},
   "outputs": [],
   "source": [
    "\"\"\"\n",
    "File: resize_images_01.py\n",
    "Author: Gabor Levai\n",
    "Email: levaigabor.net@gmail.com\n",
    "Description: Emotion recognition with CNN\n",
    "\"\"\"\n",
    "import cv2\n",
    "\n",
    "x=1\n",
    "while(x<541):\n",
    "    \n",
    "    filename = (\"surprise\"+ str(x) + \".png\")\n",
    "    image_size=224\n",
    "    num_channels=3\n",
    "    images = []\n",
    "    # Reading the image using OpenCV\n",
    "    image = cv2.imread(filename)\n",
    "    # Resizing the image to our desired size and preprocessing will be done exactly as done during training\n",
    "    image = cv2.resize(image, (image_size, image_size),0,0, cv2.INTER_LINEAR)\n",
    "    \n",
    "    endfilename = \"surprise_%d.jpg\"%x\n",
    "    cv2.imwrite(endfilename, image)\n",
    "    \n",
    "    x=x+1\n"
   ]
  }
 ],
 "metadata": {
  "kernelspec": {
   "display_name": "Python 3",
   "language": "python",
   "name": "python3"
  },
  "language_info": {
   "codemirror_mode": {
    "name": "ipython",
    "version": 3
   },
   "file_extension": ".py",
   "mimetype": "text/x-python",
   "name": "python",
   "nbconvert_exporter": "python",
   "pygments_lexer": "ipython3",
   "version": "3.6.3"
  }
 },
 "nbformat": 4,
 "nbformat_minor": 2
}
