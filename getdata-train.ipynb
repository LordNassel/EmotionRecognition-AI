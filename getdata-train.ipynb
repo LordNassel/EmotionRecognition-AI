{
 "cells": [
  {
   "cell_type": "markdown",
   "metadata": {},
   "source": [
    "# Importing the grayscale dataset containing and not containing faces"
   ]
  },
  {
   "cell_type": "code",
   "execution_count": 1,
   "metadata": {},
   "outputs": [],
   "source": [
    "import numpy as np"
   ]
  },
  {
   "cell_type": "code",
   "execution_count": 2,
   "metadata": {},
   "outputs": [
    {
     "name": "stdout",
     "output_type": "stream",
     "text": [
      "(35887, 48, 48, 1)\n"
     ]
    }
   ],
   "source": [
    "faces = np.load('datasets/grayed_faces.npy').reshape(-1,48,48,1)\n",
    "print(faces.shape)"
   ]
  },
  {
   "cell_type": "code",
   "execution_count": 3,
   "metadata": {},
   "outputs": [
    {
     "name": "stdout",
     "output_type": "stream",
     "text": [
      "(14596, 48, 48, 1)\n"
     ]
    }
   ],
   "source": [
    "notfaces = np.load('datasets/grayed_notfaces.npy').reshape(-1,48,48,1)\n",
    "print(notfaces.shape)"
   ]
  },
  {
   "cell_type": "raw",
   "metadata": {},
   "source": [
    "Since the notfaces dataset was downloaded through google image searches with the setting: \"Labeled for noncommercial reuse with modification\", it can contain some faces accidentally. So the faces dataset being much greater could be good for the network."
   ]
  },
  {
   "cell_type": "code",
   "execution_count": 7,
   "metadata": {},
   "outputs": [
    {
     "name": "stdout",
     "output_type": "stream",
     "text": [
      "(50483, 48, 48, 1)\n"
     ]
    }
   ],
   "source": [
    "in_X = np.vstack((list(faces),list(notfaces)))\n",
    "print(in_X.shape)"
   ]
  },
  {
   "cell_type": "markdown",
   "metadata": {},
   "source": [
    "# Generating labels"
   ]
  },
  {
   "cell_type": "code",
   "execution_count": 8,
   "metadata": {},
   "outputs": [],
   "source": [
    "N1 = faces.shape[0]\n",
    "y_faces = np.hstack([np.ones([N1, 1]), np.zeros([N1, 1])])"
   ]
  },
  {
   "cell_type": "code",
   "execution_count": 9,
   "metadata": {},
   "outputs": [],
   "source": [
    "N2 = notfaces.shape[0]\n",
    "y_notfaces = np.hstack([np.zeros([N2, 1]), np.ones([N2, 1])])"
   ]
  },
  {
   "cell_type": "code",
   "execution_count": 10,
   "metadata": {},
   "outputs": [
    {
     "name": "stdout",
     "output_type": "stream",
     "text": [
      "(50483, 2)\n"
     ]
    }
   ],
   "source": [
    "out_y = np.vstack([y_faces, y_notfaces])\n",
    "print(out_y.shape)"
   ]
  },
  {
   "cell_type": "markdown",
   "metadata": {},
   "source": [
    "# Shuffling the data and its labels the same way, then making the train, valid and test sets"
   ]
  },
  {
   "cell_type": "code",
   "execution_count": 11,
   "metadata": {},
   "outputs": [],
   "source": [
    "N = N1 + N2\n",
    "indices = list(range(N))\n",
    "np.random.seed(124) # for making the procedure reproducable\n",
    "np.random.shuffle(indices)"
   ]
  },
  {
   "cell_type": "code",
   "execution_count": 12,
   "metadata": {},
   "outputs": [],
   "source": [
    "in_X = in_X[indices]\n",
    "out_y = out_y[indices]"
   ]
  },
  {
   "cell_type": "raw",
   "metadata": {},
   "source": [
    "Splitting the data into train, valid and test sets"
   ]
  },
  {
   "cell_type": "code",
   "execution_count": 13,
   "metadata": {},
   "outputs": [],
   "source": [
    "train = 0.7\n",
    "val = 0.2\n",
    "# test = 0.1\n",
    "num_train = int(N*train)\n",
    "num_val = int(N*val)\n",
    "# num_test = int(N*test)\n",
    "X_train = in_X[:num_train]\n",
    "y_train = out_y[:num_train]\n",
    "X_val = in_X[num_train:num_train+num_val]\n",
    "y_val = out_y[num_train:num_train+num_val]\n",
    "X_test = in_X[num_train+num_val:] # the remainer is for the test set\n",
    "y_test = out_y[num_train+num_val:]"
   ]
  },
  {
   "cell_type": "markdown",
   "metadata": {},
   "source": [
    "# Look at some of the training data"
   ]
  },
  {
   "cell_type": "code",
   "execution_count": 14,
   "metadata": {},
   "outputs": [],
   "source": [
    "import matplotlib.pyplot as plt"
   ]
  },
  {
   "cell_type": "code",
   "execution_count": 15,
   "metadata": {},
   "outputs": [
    {
     "name": "stdout",
     "output_type": "stream",
     "text": [
      "Not a face:\n"
     ]
    },
    {
     "data": {
      "image/png": "[encoded data removed]",
      "text/plain": [
       "<matplotlib.figure.Figure at 0x7f97207e6cc0>"
      ]
     },
     "metadata": {},
     "output_type": "display_data"
    },
    {
     "name": "stdout",
     "output_type": "stream",
     "text": [
      "Face:\n"
     ]
    },
    {
     "data": {
      "image/png": "[encoded data removed]",
      "text/plain": [
       "<matplotlib.figure.Figure at 0x7f971e799278>"
      ]
     },
     "metadata": {},
     "output_type": "display_data"
    },
    {
     "name": "stdout",
     "output_type": "stream",
     "text": [
      "Face:\n"
     ]
    },
    {
     "data": {
      "image/png": "[encoded data removed]",
      "text/plain": [
       "<matplotlib.figure.Figure at 0x7f971e720748>"
      ]
     },
     "metadata": {},
     "output_type": "display_data"
    },
    {
     "name": "stdout",
     "output_type": "stream",
     "text": [
      "Face:\n"
     ]
    },
    {
     "data": {
      "image/png": "[encoded data removed]",
      "text/plain": [
       "<matplotlib.figure.Figure at 0x7f971e72c160>"
      ]
     },
     "metadata": {},
     "output_type": "display_data"
    },
    {
     "name": "stdout",
     "output_type": "stream",
     "text": [
      "Face:\n"
     ]
    },
    {
     "data": {
      "image/png": "[encoded data removed]",
      "text/plain": [
       "<matplotlib.figure.Figure at 0x7f971e6f15c0>"
      ]
     },
     "metadata": {},
     "output_type": "display_data"
    },
    {
     "name": "stdout",
     "output_type": "stream",
     "text": [
      "Face:\n"
     ]
    },
    {
     "data": {
      "image/png": "[encoded data removed]",
      "text/plain": [
       "<matplotlib.figure.Figure at 0x7f971e6a5ac8>"
      ]
     },
     "metadata": {},
     "output_type": "display_data"
    },
    {
     "name": "stdout",
     "output_type": "stream",
     "text": [
      "Face:\n"
     ]
    },
    {
     "data": {
      "image/png": "[encoded data removed]",
      "text/plain": [
       "<matplotlib.figure.Figure at 0x7f971e685cf8>"
      ]
     },
     "metadata": {},
     "output_type": "display_data"
    },
    {
     "name": "stdout",
     "output_type": "stream",
     "text": [
      "Not a face:\n"
     ]
    },
    {
     "data": {
      "image/png": "[encoded data removed]",
      "text/plain": [
       "<matplotlib.figure.Figure at 0x7f971e636e48>"
      ]
     },
     "metadata": {},
     "output_type": "display_data"
    },
    {
     "name": "stdout",
     "output_type": "stream",
     "text": [
      "Face:\n"
     ]
    },
    {
     "data": {
      "image/png": "[encoded data removed]",
      "text/plain": [
       "<matplotlib.figure.Figure at 0x7f971e5effd0>"
      ]
     },
     "metadata": {},
     "output_type": "display_data"
    },
    {
     "name": "stdout",
     "output_type": "stream",
     "text": [
      "Not a face:\n"
     ]
    },
    {
     "data": {
      "image/png": "[encoded data removed]",
      "text/plain": [
       "<matplotlib.figure.Figure at 0x7f971e5a6f28>"
      ]
     },
     "metadata": {},
     "output_type": "display_data"
    }
   ],
   "source": [
    "num_show = 10\n",
    "for i in range(10):\n",
    "    index = np.random.randint(num_train)\n",
    "    \n",
    "    if out_y[index,0]==1:\n",
    "        print('Face:')\n",
    "    else:\n",
    "        print('Not a face:')\n",
    "    \n",
    "    plt.figure()\n",
    "    plt.imshow(X_train[index].reshape([48,48]), cmap='gray', interpolation='nearest') # grayscale needs \n",
    "    plt.show()"
   ]
  },
  {
   "cell_type": "markdown",
   "metadata": {},
   "source": [
    "# Hope the number of counterexamples will be enough, but it can be never enough, we should maybe get some little more"
   ]
  },
  {
   "cell_type": "markdown",
   "metadata": {},
   "source": [
    "This cell was left blank intantionally"
   ]
  },
  {
   "cell_type": "markdown",
   "metadata": {},
   "source": [
    "# Set up the network"
   ]
  },
  {
   "cell_type": "code",
   "execution_count": 16,
   "metadata": {},
   "outputs": [],
   "source": [
    "import tensorflow as tf"
   ]
  },
  {
   "cell_type": "markdown",
   "metadata": {},
   "source": [
    "### Some things"
   ]
  },
  {
   "cell_type": "code",
   "execution_count": 17,
   "metadata": {},
   "outputs": [],
   "source": [
    "common_filters = 3\n",
    "common_strides = [1,1,1,1]\n",
    "common_padding = 'VALID'\n",
    "layers = 19\n",
    "fully_connected_neurons = 2048\n",
    "H, W, C = in_X.shape[1:]\n",
    "classes = out_y.shape[-1]"
   ]
  },
  {
   "cell_type": "markdown",
   "metadata": {},
   "source": [
    "### Number of channels in layer outputs"
   ]
  },
  {
   "cell_type": "code",
   "execution_count": 19,
   "metadata": {},
   "outputs": [
    {
     "name": "stdout",
     "output_type": "stream",
     "text": [
      "[1, 16, 18, 22, 28, 36, 46, 58, 72, 88, 106, 126, 148, 172, 198, 226, 256, 288, 322, 358]\n"
     ]
    }
   ],
   "source": [
    "channels = []\n",
    "channels.append(C) # C is channels of input X\n",
    "channel = 16\n",
    "for i in range(layers):\n",
    "    channel += i*2\n",
    "    channels.append(channel)\n",
    "print(channels)"
   ]
  },
  {
   "cell_type": "markdown",
   "metadata": {},
   "source": [
    "### Weights - default random values"
   ]
  },
  {
   "cell_type": "code",
   "execution_count": 20,
   "metadata": {},
   "outputs": [
    {
     "name": "stdout",
     "output_type": "stream",
     "text": [
      "0 [0] [0]\n",
      "1 (3, 3, 1, 16) (16,)\n",
      "2 (3, 3, 16, 18) (18,)\n",
      "3 (3, 3, 18, 22) (22,)\n",
      "4 (3, 3, 22, 28) (28,)\n",
      "5 (3, 3, 28, 36) (36,)\n",
      "6 (3, 3, 36, 46) (46,)\n",
      "7 (3, 3, 46, 58) (58,)\n",
      "8 (3, 3, 58, 72) (72,)\n",
      "9 (3, 3, 72, 88) (88,)\n",
      "10 (3, 3, 88, 106) (106,)\n",
      "11 (3, 3, 106, 126) (126,)\n",
      "12 (3, 3, 126, 148) (148,)\n",
      "13 (3, 3, 148, 172) (172,)\n",
      "14 (3, 3, 172, 198) (198,)\n",
      "15 (3, 3, 198, 226) (226,)\n",
      "16 (3, 3, 226, 256) (256,)\n",
      "17 (3, 3, 256, 288) (288,)\n",
      "18 (3, 3, 288, 322) (322,)\n",
      "19 (3, 3, 322, 358) (358,)\n"
     ]
    }
   ],
   "source": [
    "Ws, bs = [0], [0] # just for the consistent numbering with layer numbers\n",
    "print(0, Ws, bs)\n",
    "for i in range(len(channels)-1):\n",
    "    Ws.append(np.random.randn(common_filters, common_filters, channels[i], channels[i+1]).astype(np.float32)*1e-3)\n",
    "    bs.append(np.zeros(channels[i+1]).astype(np.float32))\n",
    "    print(i+1, np.array(Ws[i+1]).shape, np.array(bs[i+1]).shape)"
   ]
  },
  {
   "cell_type": "markdown",
   "metadata": {},
   "source": [
    "### Layer's weights are trainable or not"
   ]
  },
  {
   "cell_type": "code",
   "execution_count": 21,
   "metadata": {},
   "outputs": [
    {
     "name": "stdout",
     "output_type": "stream",
     "text": [
      "[0, True, True, True, True, True, True, True, True, True, True, True, True, True, True, True, True, True, True, True]\n"
     ]
    }
   ],
   "source": [
    "trainables = [True]*len(Ws)\n",
    "trainables[0] = 0 # not belonging anywhere\n",
    "print(trainables)"
   ]
  },
  {
   "cell_type": "markdown",
   "metadata": {},
   "source": [
    "### Load trained weights, set them non-trainable"
   ]
  },
  {
   "cell_type": "code",
   "execution_count": 22,
   "metadata": {},
   "outputs": [],
   "source": [
    "def load_weights():# loading already trained weights (we expect that if lower layer is not trained, then upper layer is neither)\n",
    "    current_layer = 1 # training network with early layers, then adding additional layers to it, train it, add, train, ...\n",
    "    path = 'weights/'\n",
    "    for i in range(1, len(Ws)):\n",
    "        try:\n",
    "            W_pathname = path + 'W' + str(i) + '.npy'\n",
    "            b_pathname = path + 'b' + str(i) + '.npy'\n",
    "            cur_W = np.load(W_pathname)\n",
    "            cur_b = np.load(b_pathname)\n",
    "            Ws[i] = cur_W\n",
    "            bs[i] = cur_b\n",
    "            print('layer',i,'pretrained - loaded')\n",
    "            trainables[i] = False\n",
    "            current_layer += 1 # remember the last trained layer\n",
    "        except:\n",
    "            break # will not have upper layers...\n",
    "    next_last_layer = current_layer\n",
    "    return next_last_layer"
   ]
  },
  {
   "cell_type": "markdown",
   "metadata": {},
   "source": [
    "# Describe Network"
   ]
  },
  {
   "cell_type": "code",
   "execution_count": 23,
   "metadata": {},
   "outputs": [],
   "source": [
    "# but first, define the layers structure\n",
    "def layer(prev_out, layer_number):\n",
    "    W = tf.get_variable('W'+str(layer_number), initializer=Ws[layer_number], trainable=trainables[layer_number])\n",
    "    b = tf.get_variable('b'+str(layer_number), initializer=bs[layer_number], trainable=trainables[layer_number])\n",
    "    z = tf.nn.conv2d(prev_out,W,strides=common_strides, padding=common_padding) + b\n",
    "    h = tf.nn.relu(z)\n",
    "    return h"
   ]
  },
  {
   "cell_type": "code",
   "execution_count": 24,
   "metadata": {},
   "outputs": [
    {
     "data": {
      "text/plain": [
       "'\\nh1 = layer(X, 1)\\nh2 = layer(h1, 2)\\nh3 = layer(h2, 3)\\nh4 = layer(h3, 4)\\nh5 = layer(h4, 5)\\nh6 = layer(h5, 6)\\nh7 = layer(h6, 7)\\nh8 = layer(h7, 8)\\nh9 = layer(h8, 9)\\nh10 = layer(h9, 10)\\nh11 = layer(h10, 11)\\nh12 = layer(h11, 12)\\nh13 = layer(h12, 13)\\nh14 = layer(h13, 14)\\nh15 = layer(h14, 15)\\nh16 = layer(h15, 16)\\nh17 = layer(h16, 17)\\nh18 = layer(h17, 18)\\nh19 = layer(h18, 19)\\nh_fc\\ny_out\\n'"
      ]
     },
     "execution_count": 24,
     "metadata": {},
     "output_type": "execute_result"
    }
   ],
   "source": [
    "def nn(in_X, out_y, layers, fc_neurons, last_layer, wb_outlast):\n",
    "    network = {'h1': layer(in_X, 1)}\n",
    "    for i in range(1, layers):\n",
    "        network['h'+str(i+1)] = layer(network['h'+str(i)], i+1)\n",
    "        \n",
    "    # fully connected layer at the end\n",
    "    W_fc = tf.get_variable('W_fc', initializer=wb_outlast[0])\n",
    "    b_fc = tf.get_variable('b_fc', initializer=wb_outlast[1])\n",
    "    z_fc = tf.nn.conv2d(network['h'+str(last_layer)], W_fc, strides=common_strides, padding=common_padding) + b_fc\n",
    "    h_fc = tf.nn.relu(z_fc)\n",
    "    \n",
    "    # output of network and loss\n",
    "    W_out = tf.get_variable('W_out', initializer=wb_outlast[2])\n",
    "    b_out = tf.get_variable('b_out', initializer=wb_outlast[3])\n",
    "    z_out = tf.nn.conv2d(h_fc, W_out, strides=common_strides, padding=common_padding) + b_out\n",
    "    y_out = tf.reshape(z_out, [-1, 2])\n",
    "    \n",
    "    loss = tf.reduce_mean(tf.nn.softmax_cross_entropy_with_logits(labels=out_y, logits=y_out))\n",
    "    \n",
    "    return y_out, loss, network\n",
    "\n",
    "'''\n",
    "h1 = layer(X, 1)\n",
    "h2 = layer(h1, 2)\n",
    "h3 = layer(h2, 3)\n",
    "h4 = layer(h3, 4)\n",
    "h5 = layer(h4, 5)\n",
    "h6 = layer(h5, 6)\n",
    "h7 = layer(h6, 7)\n",
    "h8 = layer(h7, 8)\n",
    "h9 = layer(h8, 9)\n",
    "h10 = layer(h9, 10)\n",
    "h11 = layer(h10, 11)\n",
    "h12 = layer(h11, 12)\n",
    "h13 = layer(h12, 13)\n",
    "h14 = layer(h13, 14)\n",
    "h15 = layer(h14, 15)\n",
    "h16 = layer(h15, 16)\n",
    "h17 = layer(h16, 17)\n",
    "h18 = layer(h17, 18)\n",
    "h19 = layer(h18, 19)\n",
    "h_fc\n",
    "y_out\n",
    "'''"
   ]
  },
  {
   "cell_type": "markdown",
   "metadata": {},
   "source": [
    "# Define Network"
   ]
  },
  {
   "cell_type": "code",
   "execution_count": 25,
   "metadata": {},
   "outputs": [
    {
     "data": {
      "text/plain": [
       "'print(np.mean(sess.run([v for v in tf.global_variables() if v.name == \"W\"+str(1)+\":0\"][0])), np.mean(Ws[1]))\\nprint(np.mean(sess.run([v for v in tf.global_variables() if v.name == \"W\"+str(2)+\":0\"][0])), np.mean(Ws[2]))\\nprint(np.mean(sess.run([v for v in tf.global_variables() if v.name == \"W_fc:0\"][0])), np.mean(Ws[1]))\\nprint(np.mean(sess.run([v for v in tf.global_variables() if v.name == \"W_out:0\"][0])), np.mean(Ws[2]))'"
      ]
     },
     "execution_count": 25,
     "metadata": {},
     "output_type": "execute_result"
    }
   ],
   "source": [
    "'''print(np.mean(sess.run([v for v in tf.global_variables() if v.name == \"W\"+str(1)+\":0\"][0])), np.mean(Ws[1]))\n",
    "print(np.mean(sess.run([v for v in tf.global_variables() if v.name == \"W\"+str(2)+\":0\"][0])), np.mean(Ws[2]))\n",
    "print(np.mean(sess.run([v for v in tf.global_variables() if v.name == \"W_fc:0\"][0])), np.mean(Ws[1]))\n",
    "print(np.mean(sess.run([v for v in tf.global_variables() if v.name == \"W_out:0\"][0])), np.mean(Ws[2]))'''"
   ]
  },
  {
   "cell_type": "code",
   "execution_count": 201,
   "metadata": {},
   "outputs": [
    {
     "name": "stdout",
     "output_type": "stream",
     "text": [
      "layer 1 pretrained - loaded\n",
      "layer 2 pretrained - loaded\n",
      "layer 3 pretrained - loaded\n",
      "[0, False, False, False, True, True, True, True, True, True, True, True, True, True, True, True, True, True, True, True]\n",
      "[0, False, False, False, True, True, True, True, True, True, True, True, True, True, True, True, True, True, True, True]\n",
      "last layer is 3\n"
     ]
    }
   ],
   "source": [
    "# but first, loading already trained weights\n",
    "next_last_layer = load_weights()\n",
    "\n",
    "current_last_layer = np.max([1, next_last_layer - 1])\n",
    "print(trainables)\n",
    "\n",
    "# additional modifications for educational purposes\n",
    "#trainables[3] = True\n",
    "print(trainables)\n",
    "print('last layer is', current_last_layer)"
   ]
  },
  {
   "cell_type": "code",
   "execution_count": 202,
   "metadata": {},
   "outputs": [
    {
     "name": "stdout",
     "output_type": "stream",
     "text": [
      "no last and out layer weights were found\n",
      "made them random\n"
     ]
    }
   ],
   "source": [
    "tf.reset_default_graph()\n",
    "\n",
    "# input, output\n",
    "X = tf.placeholder(tf.float32, shape=[None, H, W, C])\n",
    "y = tf.placeholder(tf.float32, [None, classes])\n",
    "\n",
    "y_out, loss, net, trainer_step = [], [], [], []\n",
    "\n",
    "last_layer = 4 #current_last_layer\n",
    "\n",
    "path = 'weights/'\n",
    "try:\n",
    "    W_pathname = path + 'W_fc_'+str(last_layer)+'_last.npy'\n",
    "    b_pathname = path + 'b_fc_'+str(last_layer)+'_last.npy'\n",
    "    W_fc_rand_or_load = np.load(W_pathname)\n",
    "    b_fc_rand_or_load = np.load(b_pathname)\n",
    "    W_pathname = path + 'W_out_'+str(last_layer)+'_last.npy'\n",
    "    b_pathname = path + 'b_out_'+str(last_layer)+'_last.npy'\n",
    "    W_out_rand_or_load = np.load(W_pathname)\n",
    "    b_out_rand_or_load = np.load(b_pathname)\n",
    "    print('last and out layers imported')\n",
    "except:\n",
    "    print('no last and out layer weights were found')\n",
    "    W_fc_rand_or_load = np.random.randn(H-last_layer*2, W-last_layer*2, channels[last_layer], fully_connected_neurons).astype(np.float32)\n",
    "    b_fc_rand_or_load = np.random.randn(fully_connected_neurons).astype(np.float32)\n",
    "    W_out_rand_or_load = np.random.randn(1, 1, fully_connected_neurons, classes).astype(np.float32)\n",
    "    b_out_rand_or_load = np.random.randn(classes).astype(np.float32)\n",
    "    print('made them random')\n",
    "\n",
    "weight_outlast = [W_fc_rand_or_load, b_fc_rand_or_load, W_out_rand_or_load, b_out_rand_or_load]\n",
    "def define_network(X, y, layers, fully_connected_neurons, last_layer, wb_outlast):# Cleaning\n",
    "    \n",
    "    # Creating the network\n",
    "    y_out, loss, net = nn(X, y, layers, fully_connected_neurons, last_layer, wb_outlast)\n",
    "\n",
    "    # trainer step\n",
    "    learning_rate = 4e-4\n",
    "    trainer_step = tf.train.AdagradOptimizer(learning_rate).minimize(loss)\n",
    "    \n",
    "    return y_out, loss, net, trainer_step\n",
    "\n",
    "y_out, loss, net, trainer_step = define_network(X, y, layers, fully_connected_neurons, last_layer, weight_outlast)"
   ]
  },
  {
   "cell_type": "code",
   "execution_count": 203,
   "metadata": {},
   "outputs": [],
   "source": [
    "sess = tf.Session()\n",
    "sess.run(tf.global_variables_initializer())\n",
    "#print(np.mean(sess.run([v for v in tf.global_variables() if v.name == \"W\"+str(1)+\":0\"][0])), np.mean(Ws[1]))\n",
    "#print(np.mean(sess.run([v for v in tf.global_variables() if v.name == \"W\"+str(2)+\":0\"][0])), np.mean(Ws[2]))\n",
    "#print(np.mean(sess.run([v for v in tf.global_variables() if v.name == \"W_fc:0\"][0])), np.mean(W_fc_rand_or_load))\n",
    "#print(np.mean(sess.run([v for v in tf.global_variables() if v.name == \"W_out:0\"][0])), np.mean(W_out_rand_or_load))"
   ]
  },
  {
   "cell_type": "code",
   "execution_count": 204,
   "metadata": {},
   "outputs": [
    {
     "data": {
      "text/plain": [
       "4"
      ]
     },
     "execution_count": 204,
     "metadata": {},
     "output_type": "execute_result"
    }
   ],
   "source": [
    "last_layer"
   ]
  },
  {
   "cell_type": "markdown",
   "metadata": {},
   "source": [
    "### check all the variables are good"
   ]
  },
  {
   "cell_type": "code",
   "execution_count": 205,
   "metadata": {
    "scrolled": true
   },
   "outputs": [
    {
     "data": {
      "text/plain": [
       "[<tf.Variable 'W1:0' shape=(3, 3, 1, 16) dtype=float32_ref>,\n",
       " <tf.Variable 'b1:0' shape=(16,) dtype=float32_ref>,\n",
       " <tf.Variable 'W2:0' shape=(3, 3, 16, 18) dtype=float32_ref>,\n",
       " <tf.Variable 'b2:0' shape=(18,) dtype=float32_ref>,\n",
       " <tf.Variable 'W3:0' shape=(3, 3, 18, 22) dtype=float32_ref>,\n",
       " <tf.Variable 'b3:0' shape=(22,) dtype=float32_ref>,\n",
       " <tf.Variable 'W4:0' shape=(3, 3, 22, 28) dtype=float32_ref>,\n",
       " <tf.Variable 'b4:0' shape=(28,) dtype=float32_ref>,\n",
       " <tf.Variable 'W5:0' shape=(3, 3, 28, 36) dtype=float32_ref>,\n",
       " <tf.Variable 'b5:0' shape=(36,) dtype=float32_ref>,\n",
       " <tf.Variable 'W6:0' shape=(3, 3, 36, 46) dtype=float32_ref>,\n",
       " <tf.Variable 'b6:0' shape=(46,) dtype=float32_ref>,\n",
       " <tf.Variable 'W7:0' shape=(3, 3, 46, 58) dtype=float32_ref>,\n",
       " <tf.Variable 'b7:0' shape=(58,) dtype=float32_ref>,\n",
       " <tf.Variable 'W8:0' shape=(3, 3, 58, 72) dtype=float32_ref>,\n",
       " <tf.Variable 'b8:0' shape=(72,) dtype=float32_ref>,\n",
       " <tf.Variable 'W9:0' shape=(3, 3, 72, 88) dtype=float32_ref>,\n",
       " <tf.Variable 'b9:0' shape=(88,) dtype=float32_ref>,\n",
       " <tf.Variable 'W10:0' shape=(3, 3, 88, 106) dtype=float32_ref>,\n",
       " <tf.Variable 'b10:0' shape=(106,) dtype=float32_ref>,\n",
       " <tf.Variable 'W11:0' shape=(3, 3, 106, 126) dtype=float32_ref>,\n",
       " <tf.Variable 'b11:0' shape=(126,) dtype=float32_ref>,\n",
       " <tf.Variable 'W12:0' shape=(3, 3, 126, 148) dtype=float32_ref>,\n",
       " <tf.Variable 'b12:0' shape=(148,) dtype=float32_ref>,\n",
       " <tf.Variable 'W13:0' shape=(3, 3, 148, 172) dtype=float32_ref>,\n",
       " <tf.Variable 'b13:0' shape=(172,) dtype=float32_ref>,\n",
       " <tf.Variable 'W14:0' shape=(3, 3, 172, 198) dtype=float32_ref>,\n",
       " <tf.Variable 'b14:0' shape=(198,) dtype=float32_ref>,\n",
       " <tf.Variable 'W15:0' shape=(3, 3, 198, 226) dtype=float32_ref>,\n",
       " <tf.Variable 'b15:0' shape=(226,) dtype=float32_ref>,\n",
       " <tf.Variable 'W16:0' shape=(3, 3, 226, 256) dtype=float32_ref>,\n",
       " <tf.Variable 'b16:0' shape=(256,) dtype=float32_ref>,\n",
       " <tf.Variable 'W17:0' shape=(3, 3, 256, 288) dtype=float32_ref>,\n",
       " <tf.Variable 'b17:0' shape=(288,) dtype=float32_ref>,\n",
       " <tf.Variable 'W18:0' shape=(3, 3, 288, 322) dtype=float32_ref>,\n",
       " <tf.Variable 'b18:0' shape=(322,) dtype=float32_ref>,\n",
       " <tf.Variable 'W19:0' shape=(3, 3, 322, 358) dtype=float32_ref>,\n",
       " <tf.Variable 'b19:0' shape=(358,) dtype=float32_ref>,\n",
       " <tf.Variable 'W_fc:0' shape=(40, 40, 28, 2048) dtype=float32_ref>,\n",
       " <tf.Variable 'b_fc:0' shape=(2048,) dtype=float32_ref>,\n",
       " <tf.Variable 'W_out:0' shape=(1, 1, 2048, 2) dtype=float32_ref>,\n",
       " <tf.Variable 'b_out:0' shape=(2,) dtype=float32_ref>,\n",
       " <tf.Variable 'W4/Adagrad:0' shape=(3, 3, 22, 28) dtype=float32_ref>,\n",
       " <tf.Variable 'b4/Adagrad:0' shape=(28,) dtype=float32_ref>,\n",
       " <tf.Variable 'W_fc/Adagrad:0' shape=(40, 40, 28, 2048) dtype=float32_ref>,\n",
       " <tf.Variable 'b_fc/Adagrad:0' shape=(2048,) dtype=float32_ref>,\n",
       " <tf.Variable 'W_out/Adagrad:0' shape=(1, 1, 2048, 2) dtype=float32_ref>,\n",
       " <tf.Variable 'b_out/Adagrad:0' shape=(2,) dtype=float32_ref>]"
      ]
     },
     "execution_count": 205,
     "metadata": {},
     "output_type": "execute_result"
    }
   ],
   "source": [
    "tf.global_variables()"
   ]
  },
  {
   "cell_type": "markdown",
   "metadata": {},
   "source": [
    "# Training"
   ]
  },
  {
   "cell_type": "code",
   "execution_count": 206,
   "metadata": {},
   "outputs": [],
   "source": [
    "#import tqdm\n",
    "import matplotlib.pyplot as plt"
   ]
  },
  {
   "cell_type": "code",
   "execution_count": 207,
   "metadata": {},
   "outputs": [],
   "source": [
    "sess = tf.Session()\n",
    "sess.run(tf.global_variables_initializer())"
   ]
  },
  {
   "cell_type": "code",
   "execution_count": 208,
   "metadata": {},
   "outputs": [
    {
     "name": "stdout",
     "output_type": "stream",
     "text": [
      "-0.00126449 -0.00126449\n",
      "-7.36349e-06 -7.36349e-06\n",
      "0.000104803 0.000104803\n",
      "0.00476352 0.00476352\n"
     ]
    }
   ],
   "source": [
    "print(np.mean(sess.run([v for v in tf.global_variables() if v.name == \"W\"+str(1)+\":0\"][0])), np.mean(Ws[1]))\n",
    "print(np.mean(sess.run([v for v in tf.global_variables() if v.name == \"W\"+str(2)+\":0\"][0])), np.mean(Ws[2]))\n",
    "print(np.mean(sess.run([v for v in tf.global_variables() if v.name == \"W_fc:0\"][0])), np.mean(W_fc_rand_or_load))\n",
    "print(np.mean(sess.run([v for v in tf.global_variables() if v.name == \"W_out:0\"][0])), np.mean(W_out_rand_or_load))"
   ]
  },
  {
   "cell_type": "code",
   "execution_count": 217,
   "metadata": {},
   "outputs": [
    {
     "name": "stdout",
     "output_type": "stream",
     "text": [
      "0.705\n"
     ]
    }
   ],
   "source": [
    "y_pred = sess.run(y_out, {X: X_val[:1000], y: y_val[:1000]})\n",
    "val_acc = np.mean(sess.run(tf.argmax(y_pred,1), {X: X_val[:1000], y: y_val[:1000]}) == sess.run(tf.argmax(y,1), {y: y_val[:1000]}))\n",
    "print(val_acc)"
   ]
  },
  {
   "cell_type": "code",
   "execution_count": 218,
   "metadata": {},
   "outputs": [],
   "source": [
    "# so we can early stop\n",
    "best_val = np.inf"
   ]
  },
  {
   "cell_type": "code",
   "execution_count": 181,
   "metadata": {},
   "outputs": [],
   "source": [
    "train_losses = []\n",
    "val_losses = []\n",
    "val_acces = []"
   ]
  },
  {
   "cell_type": "code",
   "execution_count": 221,
   "metadata": {},
   "outputs": [
    {
     "name": "stdout",
     "output_type": "stream",
     "text": [
      "starting epoch: 0\n",
      "new best model has been saved\n",
      "new best model has been saved\n",
      "new best model has been saved\n",
      "new best model has been saved\n",
      "starting epoch: 1\n",
      "new best model has been saved\n",
      "new best model has been saved\n",
      "new best model has been saved\n",
      "new best model has been saved\n",
      "starting epoch: 2\n",
      "new best model has been saved\n",
      "new best model has been saved\n",
      "new best model has been saved\n",
      "starting epoch: 3\n",
      "new best model has been saved\n",
      "starting epoch: 4\n",
      "new best model has been saved\n",
      "new best model has been saved\n",
      "starting epoch: 5\n",
      "starting epoch: 6\n",
      "starting epoch: 7\n",
      "new best model has been saved\n",
      "new best model has been saved\n",
      "starting epoch: 8\n",
      "new best model has been saved\n",
      "starting epoch: 9\n",
      "new best model has been saved\n",
      "starting epoch: 10\n",
      "new best model has been saved\n",
      "starting epoch: 11\n",
      "starting epoch: 12\n",
      "new best model has been saved\n",
      "new best model has been saved\n",
      "starting epoch: 13\n",
      "starting epoch: 14\n",
      "starting epoch: 15\n",
      "new best model has been saved\n",
      "starting epoch: 16\n",
      "starting epoch: 17\n",
      "starting epoch: 18\n",
      "new best model has been saved\n",
      "starting epoch: 19\n",
      "new best model has been saved\n",
      "starting epoch: 20\n",
      "starting epoch: 21\n",
      "starting epoch: 22\n",
      "starting epoch: 23\n",
      "starting epoch: 24\n",
      "INFO:tensorflow:Restoring parameters from weights/early_stopping/best_val\n"
     ]
    }
   ],
   "source": [
    "epochs = 25\n",
    "batch_size = 50\n",
    "iterations = num_train//batch_size # the remainding just remains, it would be not so good to train on just a few samples when we want a batch size of 100 ...\n",
    "validate_every = 150\n",
    "patience = 5000 # iterations, note that you have to wait for evert validation... so patience is the max of (validate_every and patience)\n",
    "count = 0\n",
    "saver = tf.train.Saver()\n",
    "early_stop = False\n",
    "for i in range(epochs):\n",
    "    print('starting epoch:', i)\n",
    "    # shuffle before the epoch\n",
    "    indices = np.random.permutation(num_train)\n",
    "    X_train, y_train = X_train[indices], y_train[indices]\n",
    "    \n",
    "    # train for one epoch\n",
    "    for j in range(iterations):\n",
    "        X_batch, y_batch = X_train[batch_size*j:batch_size*(j+1)], y_train[batch_size*j:batch_size*(j+1)]\n",
    "        # see the train and val losses before the iteration\n",
    "        if j%validate_every == 0:\n",
    "            train_loss = sess.run(loss, {X: X_batch, y: y_batch})\n",
    "            val_indecies = np.random.choice(num_val, 1000)\n",
    "            val_loss, y_pred = sess.run([loss, y_out], {X: X_val[val_indecies], y: y_val[val_indecies]}) # on the whole validation set\n",
    "            train_losses.append(train_loss)\n",
    "            val_losses.append(val_loss)\n",
    "            val_acc = sess.run(tf.reduce_mean(tf.cast(sess.run(tf.argmax(y_pred,1), {X: X_val[val_indecies], y:y_val[val_indecies]}) == sess.run(tf.argmax(y,1), {X: X_val[val_indecies], y:y_val[val_indecies]}), tf.float32)))\n",
    "            val_acces.append(val_acc)\n",
    "            \n",
    "            # checking the validation if it is better than the better yet\n",
    "            if val_loss < best_val:\n",
    "                best_val = val_loss\n",
    "                saver.save(sess, 'weights/early_stopping/best_val')\n",
    "                print('new best model has been saved')\n",
    "                # restart counter\n",
    "                count = 0\n",
    "            # if it was better, count gets to zero\n",
    "            \n",
    "            # early stop if our patience is over\n",
    "            if count > patience:\n",
    "                # loading back the model best validated\n",
    "                print('early stopping, saving restored weights')\n",
    "                saver.restore(sess, 'weights/early_stopping/best_val')\n",
    "                early_stop = True\n",
    "                \n",
    "                # saving all the trainable layers up to the last layer...\n",
    "                for k in range(1,last_layer+1):\n",
    "                    if trainables[k]:\n",
    "                        W_to_save = [v for v in tf.global_variables() if v.name == \"W\"+str(k)+\":0\"][0]\n",
    "                        b_to_save = [v for v in tf.global_variables() if v.name == \"b\"+str(k)+\":0\"][0]\n",
    "                        np.save('weights/W'+str(k), sess.run(W_to_save))\n",
    "                        np.save('weights/b'+str(k), sess.run(b_to_save))\n",
    "                # and also, saving the trained last layers for this last layery arrangement\n",
    "                # so that we can continue with training with other parameters.....\n",
    "                #FC\n",
    "                W_to_save = [v for v in tf.global_variables() if v.name == \"W_fc:0\"][0]\n",
    "                b_to_save = [v for v in tf.global_variables() if v.name == \"b_fc:0\"][0]\n",
    "                np.save('weights/W_fc_'+str(last_layer)+'_last', sess.run(W_to_save))\n",
    "                np.save('weights/b_fc_'+str(last_layer)+'_last', sess.run(b_to_save))\n",
    "                #OUT\n",
    "                W_to_save = [v for v in tf.global_variables() if v.name == \"W_out:0\"][0]\n",
    "                b_to_save = [v for v in tf.global_variables() if v.name == \"b_out:0\"][0]\n",
    "                np.save('weights/W_out_'+str(last_layer)+'_last', sess.run(W_to_save))\n",
    "                np.save('weights/b_out_'+str(last_layer)+'_last', sess.run(b_to_save))\n",
    "                # they are saved\n",
    "                \n",
    "                break\n",
    "            # early stop end \n",
    "            \n",
    "        # the actual training step\n",
    "        sess.run(trainer_step, {X: X_train[:batch_size], y: y_train[:batch_size]})\n",
    "        count += 1\n",
    "    # one epoch ended\n",
    "    \n",
    "    if early_stop:\n",
    "        break\n",
    "        \n",
    "saver.restore(sess, 'weights/early_stopping/best_val')\n",
    "early_stop = True\n",
    "\n",
    "# saving all the trainable layers up to the last layer...\n",
    "for k in range(1,last_layer+1):\n",
    "    if trainables[k]:\n",
    "        W_to_save = [v for v in tf.global_variables() if v.name == \"W\"+str(k)+\":0\"][0]\n",
    "        b_to_save = [v for v in tf.global_variables() if v.name == \"b\"+str(k)+\":0\"][0]\n",
    "        np.save('weights/W'+str(k), sess.run(W_to_save))\n",
    "        np.save('weights/b'+str(k), sess.run(b_to_save))\n",
    "# and also, saving the trained last layers for this last layery arrangement\n",
    "# so that we can continue with training with other parameters.....\n",
    "#FC\n",
    "W_to_save = [v for v in tf.global_variables() if v.name == \"W_fc:0\"][0]\n",
    "b_to_save = [v for v in tf.global_variables() if v.name == \"b_fc:0\"][0]\n",
    "np.save('weights/W_fc_'+str(last_layer)+'_last', sess.run(W_to_save))\n",
    "np.save('weights/b_fc_'+str(last_layer)+'_last', sess.run(b_to_save))\n",
    "#OUT\n",
    "W_to_save = [v for v in tf.global_variables() if v.name == \"W_out:0\"][0]\n",
    "b_to_save = [v for v in tf.global_variables() if v.name == \"b_out:0\"][0]\n",
    "np.save('weights/W_out_'+str(last_layer)+'_last', sess.run(W_to_save))\n",
    "np.save('weights/b_out_'+str(last_layer)+'_last', sess.run(b_to_save))\n",
    "# they are saved\n",
    "\n",
    "            "
   ]
  },
  {
   "cell_type": "code",
   "execution_count": 222,
   "metadata": {},
   "outputs": [
    {
     "data": {
      "image/png": "[encoded data removed]",
      "text/plain": [
       "<matplotlib.figure.Figure at 0x7f95e8a50978>"
      ]
     },
     "metadata": {},
     "output_type": "display_data"
    },
    {
     "data": {
      "image/png": "[encoded data removed]",
      "text/plain": [
       "<matplotlib.figure.Figure at 0x7f95e71ddcf8>"
      ]
     },
     "metadata": {},
     "output_type": "display_data"
    }
   ],
   "source": [
    "plt.figure()\n",
    "plt.plot(train_losses)\n",
    "plt.plot(val_losses)\n",
    "# accuracies on other figure\n",
    "plt.figure()\n",
    "plt.plot(val_acces)\n",
    "plt.show()"
   ]
  }
 ],
 "metadata": {
  "kernelspec": {
   "display_name": "Python 3",
   "language": "python",
   "name": "python3"
  },
  "language_info": {
   "codemirror_mode": {
    "name": "ipython",
    "version": 3
   },
   "file_extension": ".py",
   "mimetype": "text/x-python",
   "name": "python",
   "nbconvert_exporter": "python",
   "pygments_lexer": "ipython3",
   "version": "3.5.2"
  }
 },
 "nbformat": 4,
 "nbformat_minor": 2
}
